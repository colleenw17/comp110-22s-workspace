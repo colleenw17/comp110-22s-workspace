{
 "cells": [
  {
   "cell_type": "markdown",
   "metadata": {},
   "source": [
    "# Analysis for Continuous Improvement\n",
    "\n",
    "Author Name: Colleen Whitener\n",
    "\n",
    "9-digit PID: 730319000\n",
    "\n",
    "Continuous Improvement embraces a belief there is _always room to make things better_. It is a mindset and process we value and practice in this course. In this assignment, you are able to practice continuous improvement and contribute to the design ideas of the course.\n",
    "\n",
    "## Brainstorming Ideas\n",
    "\n",
    "Reflect on your personal experiences and observations in COMP110 and **brainstorm modifications to the course that _create value_ beyond its current design**. When brainstorming, try not to be critical of the ideas you come up with regarding scale, stakeholders impacted, or for any other reasons. In the markdown cell below, brainstorm 3 to 5 ideas you think would create value for you.\n",
    "\n",
    "Each brainstormed idea should state a. the suggested change or addition, b. what the expected value created, and c. which specific stakeholders would benefit.  If helpful, expand on the following template \"The course should (state idea here) because it will (state value created here) for (insert stakeholders here).\"\n",
    "\n",
    "Example A: \"The course should use only examples from psychology experiments because it will be more relevant for students who are psychology majors.\"\n",
    "\n",
    "Example B: \"The course should not have post-lesson questions because they are not useful for most students in the class.\""
   ]
  },
  {
   "cell_type": "markdown",
   "metadata": {},
   "source": [
    "### Part 1. Creative Ideation\n",
    "\n",
    "1. This course should add more lessons on smaller concepts because it will give students more practice.\n",
    "2. This course should use more examples from different majors so more students would be able to relate.\n",
    "3. The class should be entirely asynchronous as the performance of students would improve as they would have more flexibility to complete lessons and assignments. \n",
    "4. Students should be required to submit a sample of their notes or a picture of the questions completed in class to ensure everyone is paying attention.\n",
    "5. More office hours should be available to students later or earlier in the day, especially before exercises are due, so students can gain more help."
   ]
  },
  {
   "cell_type": "markdown",
   "metadata": {},
   "source": [
    "## Connecting with Available Data\n",
    "\n",
    "The data you have available for this analysis is limited to the anonymized course survey you and your peers filled out a few weeks ago. The data is found in the `survey.csv` file in this exercise directory. Each row represents an individual survey response. Each column has a description which can be found on the project write-up here: <https://22s.comp110.com/exercises/ex08.html>\n",
    "\n",
    "Review the list of available data and identify which one of your ideas _does not_, or is _least likely to_, have relevant data to support the analysis of your idea to create value. In the box below, identify which of your ideas lacks data and suggest how we might be able to collect this data in the future. One aspect of _continuous improvement_ is trying to avoid \"tunnel vision\" where possible improvements are not considered because there is no data available to analyze it. Identifying new data sources can unlock improvements!"
   ]
  },
  {
   "cell_type": "markdown",
   "metadata": {},
   "source": [
    "### Part 2. Identifying Missing Data\n",
    "\n",
    "1. Idea without sufficient data to analyze: The first creative idea about adding more lessons about smaller concepts does not currently have sufficient data to analyze. \n",
    "2. Suggestion for how to collect data to support this idea in the future: However, data could be collected on this by asking students how they feel about the format of the course and whether or not they'd want more homework/practice with concepts before implementing them in exercises.\n"
   ]
  },
  {
   "cell_type": "markdown",
   "metadata": {},
   "source": [
    "## Choosing an Idea to Analyze\n",
    "\n",
    "Consider those of your ideas which _do_ seem likely to have relevant data to analyze. If none of your ideas do, spend a few minutes and brainstorm another idea or two with the added connection of data available on hand and add those ideas to your brainstormed ideas list.\n",
    "\n",
    "Select the one idea which you believe is _most valuable_ to analyze relative to the others and has data to support the analysis of. In the markdown cell for Part 3 below, identify the idea you are exploring and articulate why you believe it is most valuable (e.g. widest impact, biggest opportunity for improvement, simplest change for significant improvement, and so on)."
   ]
  },
  {
   "cell_type": "markdown",
   "metadata": {},
   "source": [
    "### Part 3. Choosing Your Analysis\n",
    "\n",
    "1. Idea to analyze with available data: The third creative idea would be most valuable to analyze as there is data from the sync_perf, all_sync, and flipped_class to analyze.\n",
    "\n",
    "2. This idea is more valuable than the others brainstormed because: This idea is valuable as we leave the pandemic and asynchronous modes start to be left behind. Students, based on what I've heard, enjoyed being able to watch lecture videos whenever and then talk about it subjects they didn't understand during classtimes with teachers. This would allow students more flexibility in their schedules while also giving them more ability to learn and review past lectures, etc.\n"
   ]
  },
  {
   "cell_type": "markdown",
   "metadata": {},
   "source": [
    "## Your Analysis\n",
    "\n",
    "Before you begin analysis, a reminder that we do not expect the data to support everyone's ideas and you can complete this exercise for full credit even if the data does not clearly support your suggestion or even completely refutes it. What we are looking for is a logical attempt to explore the data using the techniques you have learned up until now in a way that _either_ supports, refutes, or does not have a clear result and then to reflect on your findings after the analysis.\n",
    "\n",
    "Using the utility functions you created for the previous exercise, you will continue with your analysis in the following part. Before you begin, refer to the rubric on the technical expectations of this section in the exercise write-up.\n",
    "\n",
    "In this section, you are expected to interleave code and markdown cells such that for each step of your analysis you are starting with an English description of what you are planning to do next in a markdown cell, followed by a Python cell that performs that step of the analysis."
   ]
  },
  {
   "cell_type": "markdown",
   "metadata": {},
   "source": [
    "### Part 4. Analysis\n",
    "\n",
    "We begin by changing some settings in the notebook to automatically reload changes to imported files."
   ]
  },
  {
   "cell_type": "code",
   "execution_count": 1,
   "metadata": {},
   "outputs": [],
   "source": [
    "%reload_ext autoreload\n",
    "%autoreload 2"
   ]
  },
  {
   "cell_type": "markdown",
   "metadata": {},
   "source": [
    "We continue by importing the helper functions from `data_utils`."
   ]
  },
  {
   "cell_type": "code",
   "execution_count": 2,
   "metadata": {},
   "outputs": [],
   "source": [
    "from csv import DictReader\n",
    "from data_utils import read_csv_rows, columnar, head, select, helper, count\n",
    "from tabulate import tabulate"
   ]
  },
  {
   "cell_type": "markdown",
   "metadata": {},
   "source": [
    "Next, ... (you take it from here and add additional code and markdown cells to read in the CSV file and process it as needed)"
   ]
  },
  {
   "cell_type": "code",
   "execution_count": 3,
   "metadata": {},
   "outputs": [],
   "source": [
    "SURVEY_DATA_CSV_FILE_PATH: str = \"../../data/survey.csv\""
   ]
  },
  {
   "cell_type": "markdown",
   "metadata": {},
   "source": [
    "Making the survey data into a table."
   ]
  },
  {
   "cell_type": "code",
   "execution_count": 4,
   "metadata": {},
   "outputs": [],
   "source": [
    "data_rows: list[dict[str, str]] = read_csv_rows(SURVEY_DATA_CSV_FILE_PATH)"
   ]
  },
  {
   "cell_type": "markdown",
   "metadata": {},
   "source": [
    "Looking at a table that is column-oriented viewing only the first 10 rows (a sample size) of the releveant columns "
   ]
  },
  {
   "cell_type": "code",
   "execution_count": 5,
   "metadata": {},
   "outputs": [
    {
     "data": {
      "text/html": [
       "<table>\n",
       "<thead>\n",
       "<tr><th style=\"text-align: right;\">  sync_perf</th><th style=\"text-align: right;\">  all_sync</th><th style=\"text-align: right;\">  flipped_class</th><th style=\"text-align: right;\">  no_hybrid</th></tr>\n",
       "</thead>\n",
       "<tbody>\n",
       "<tr><td style=\"text-align: right;\">          2</td><td style=\"text-align: right;\">         2</td><td style=\"text-align: right;\">              1</td><td style=\"text-align: right;\">          2</td></tr>\n",
       "<tr><td style=\"text-align: right;\">          3</td><td style=\"text-align: right;\">         3</td><td style=\"text-align: right;\">              1</td><td style=\"text-align: right;\">          2</td></tr>\n",
       "<tr><td style=\"text-align: right;\">          3</td><td style=\"text-align: right;\">         4</td><td style=\"text-align: right;\">              2</td><td style=\"text-align: right;\">          1</td></tr>\n",
       "<tr><td style=\"text-align: right;\">          5</td><td style=\"text-align: right;\">         4</td><td style=\"text-align: right;\">              3</td><td style=\"text-align: right;\">          3</td></tr>\n",
       "<tr><td style=\"text-align: right;\">          3</td><td style=\"text-align: right;\">         3</td><td style=\"text-align: right;\">              3</td><td style=\"text-align: right;\">          2</td></tr>\n",
       "<tr><td style=\"text-align: right;\">          2</td><td style=\"text-align: right;\">         2</td><td style=\"text-align: right;\">              2</td><td style=\"text-align: right;\">          1</td></tr>\n",
       "<tr><td style=\"text-align: right;\">          3</td><td style=\"text-align: right;\">         3</td><td style=\"text-align: right;\">              5</td><td style=\"text-align: right;\">          3</td></tr>\n",
       "<tr><td style=\"text-align: right;\">          2</td><td style=\"text-align: right;\">         2</td><td style=\"text-align: right;\">              1</td><td style=\"text-align: right;\">          1</td></tr>\n",
       "<tr><td style=\"text-align: right;\">          5</td><td style=\"text-align: right;\">         4</td><td style=\"text-align: right;\">              6</td><td style=\"text-align: right;\">          5</td></tr>\n",
       "<tr><td style=\"text-align: right;\">          2</td><td style=\"text-align: right;\">         2</td><td style=\"text-align: right;\">              1</td><td style=\"text-align: right;\">          1</td></tr>\n",
       "</tbody>\n",
       "</table>"
      ],
      "text/plain": [
       "'<table>\\n<thead>\\n<tr><th style=\"text-align: right;\">  sync_perf</th><th style=\"text-align: right;\">  all_sync</th><th style=\"text-align: right;\">  flipped_class</th><th style=\"text-align: right;\">  no_hybrid</th></tr>\\n</thead>\\n<tbody>\\n<tr><td style=\"text-align: right;\">          2</td><td style=\"text-align: right;\">         2</td><td style=\"text-align: right;\">              1</td><td style=\"text-align: right;\">          2</td></tr>\\n<tr><td style=\"text-align: right;\">          3</td><td style=\"text-align: right;\">         3</td><td style=\"text-align: right;\">              1</td><td style=\"text-align: right;\">          2</td></tr>\\n<tr><td style=\"text-align: right;\">          3</td><td style=\"text-align: right;\">         4</td><td style=\"text-align: right;\">              2</td><td style=\"text-align: right;\">          1</td></tr>\\n<tr><td style=\"text-align: right;\">          5</td><td style=\"text-align: right;\">         4</td><td style=\"text-align: right;\">              3</td><td style=\"text-align: right;\">          3</td></tr>\\n<tr><td style=\"text-align: right;\">          3</td><td style=\"text-align: right;\">         3</td><td style=\"text-align: right;\">              3</td><td style=\"text-align: right;\">          2</td></tr>\\n<tr><td style=\"text-align: right;\">          2</td><td style=\"text-align: right;\">         2</td><td style=\"text-align: right;\">              2</td><td style=\"text-align: right;\">          1</td></tr>\\n<tr><td style=\"text-align: right;\">          3</td><td style=\"text-align: right;\">         3</td><td style=\"text-align: right;\">              5</td><td style=\"text-align: right;\">          3</td></tr>\\n<tr><td style=\"text-align: right;\">          2</td><td style=\"text-align: right;\">         2</td><td style=\"text-align: right;\">              1</td><td style=\"text-align: right;\">          1</td></tr>\\n<tr><td style=\"text-align: right;\">          5</td><td style=\"text-align: right;\">         4</td><td style=\"text-align: right;\">              6</td><td style=\"text-align: right;\">          5</td></tr>\\n<tr><td style=\"text-align: right;\">          2</td><td style=\"text-align: right;\">         2</td><td style=\"text-align: right;\">              1</td><td style=\"text-align: right;\">          1</td></tr>\\n</tbody>\\n</table>'"
      ]
     },
     "execution_count": 5,
     "metadata": {},
     "output_type": "execute_result"
    }
   ],
   "source": [
    "data_cols: dict[str, list[str]] = columnar(data_rows)\n",
    "data_cols_head: dict[str, list[str]] = head(data_cols, 5)\n",
    "selected_data: dict[str, list[str]] = select(data_cols, [\"sync_perf\", \"all_sync\", \"flipped_class\", \"no_hybrid\"])\n",
    "tabulate(head(selected_data, 10), selected_data.keys(), \"html\")"
   ]
  },
  {
   "cell_type": "markdown",
   "metadata": {},
   "source": [
    "Counting the number of times a value from 1-7 (Strongly Disagree to Strongly Agree) appears to be used in a graph"
   ]
  },
  {
   "cell_type": "code",
   "execution_count": 6,
   "metadata": {},
   "outputs": [
    {
     "name": "stdout",
     "output_type": "stream",
     "text": [
      "sync_perf: {'2': 154, '3': 94, '5': 42, '4': 101, '6': 29, '1': 149, '7': 51}\n",
      "all_sync: {'2': 155, '3': 71, '4': 85, '5': 44, '1': 201, '7': 39, '6': 25}\n",
      "flipped_class: {'1': 177, '2': 127, '3': 95, '5': 61, '6': 39, '7': 38, '4': 83}\n",
      "no_hybrid: {'2': 120, '1': 317, '3': 69, '5': 27, '6': 12, '4': 63, '7': 12}\n"
     ]
    }
   ],
   "source": [
    "sync_perf_count: dict[str, int] = count(selected_data[\"sync_perf\"])\n",
    "print(f\"sync_perf: {sync_perf_count}\")\n",
    "\n",
    "all_sync_count: dict[str, int] = count(selected_data[\"all_sync\"])\n",
    "print(f\"all_sync: {all_sync_count}\")\n",
    "\n",
    "flipped_class_count: dict[str, int] = count(selected_data[\"flipped_class\"])\n",
    "print(f\"flipped_class: {flipped_class_count}\")\n",
    "\n",
    "no_hybrid_count: dict[str, int] = count(selected_data[\"no_hybrid\"])\n",
    "print(f\"no_hybrid: {no_hybrid_count}\")\n"
   ]
  },
  {
   "cell_type": "markdown",
   "metadata": {},
   "source": [
    "Helper Function:\n",
    "Finding the average of each column using a helper function in order for the averages to be graphed"
   ]
  },
  {
   "cell_type": "code",
   "execution_count": 7,
   "metadata": {},
   "outputs": [
    {
     "name": "stdout",
     "output_type": "stream",
     "text": [
      "sync_perf: 3.0387096774193547\n",
      "all_sync: 2.753225806451613\n",
      "flipped_class: 2.988709677419355\n",
      "no_hybrid: 2.108064516129032\n"
     ]
    }
   ],
   "source": [
    "from data_utils import helper\n",
    "avg: dict[str, list[str]] = helper(selected_data[\"sync_perf\"])\n",
    "print(f\"sync_perf: {avg}\")\n",
    "\n",
    "avg: dict[str, list[str]] = helper(selected_data[\"all_sync\"])\n",
    "print(f\"all_sync: {avg}\")\n",
    "\n",
    "avg: dict[str, list[str]] = helper(selected_data[\"flipped_class\"])\n",
    "print(f\"flipped_class: {avg}\")\n",
    "\n",
    "avg: dict[str, list[str]] = helper(selected_data[\"no_hybrid\"])\n",
    "print(f\"no_hybrid: {avg}\")\n",
    "\n"
   ]
  },
  {
   "cell_type": "markdown",
   "metadata": {},
   "source": [
    "Creating a bar plot using column averages"
   ]
  },
  {
   "cell_type": "code",
   "execution_count": 8,
   "metadata": {},
   "outputs": [
    {
     "data": {
      "image/png": "[encoded data removed]",
      "text/plain": [
       "<Figure size 432x288 with 1 Axes>"
      ]
     },
     "metadata": {
      "needs_background": "light"
     },
     "output_type": "display_data"
    }
   ],
   "source": [
    "import matplotlib.pyplot as plt\n",
    "import numpy as np\n",
    "import matplotlib.pyplot as plt\n",
    "\n",
    "labels = ['sync_perf', 'all_sync', 'flipped_class', 'no_hybrid']\n",
    "y_pos = [0, 1, 2, 3]  # the order the labels will be arranged in bar chart\n",
    "performance = [3.0387096774193547, 2.753225806451613, 2.988709677419355, 2.108064516129032]\n",
    "plt.bar(y_pos, performance, align='center', alpha=0.5)\n",
    "plt.xticks(y_pos, labels)\n",
    "plt.ylabel('Averages of Class Preference', color='green')\n",
    "plt.title('Preference for Asynchronous vs. Synchronous Class', color='green')\n",
    "plt.suptitle(\"A lower number indicates a preference for asynchronous classes while a higher number indiciates a preference for synchronous classes.\", color=\"white\")\n",
    "\n",
    "\n",
    "plt.show()\n"
   ]
  },
  {
   "cell_type": "markdown",
   "metadata": {},
   "source": [
    "Another graph using the count() function to indicate how many total responses (1-7) occurred for each column "
   ]
  },
  {
   "cell_type": "code",
   "execution_count": 16,
   "metadata": {},
   "outputs": [
    {
     "data": {
      "image/png": "[encoded data removed]",
      "text/plain": [
       "<Figure size 864x360 with 1 Axes>"
      ]
     },
     "metadata": {
      "needs_background": "light"
     },
     "output_type": "display_data"
    }
   ],
   "source": [
    "from matplotlib import pyplot as plt\n",
    "\n",
    "fig, axes = plt.subplots(figsize=(12, 5), sharey=True)\n",
    "\n",
    "\n",
    "axes.set_title(\"How many people answered 1-7 for each column\")\n",
    "axes.set_ylabel('Number of Responses')\n",
    "axes.set_xlabel('Scale')\n",
    "axes.bar(sync_perf_count.keys(), sync_perf_count.values())\n",
    "axes.bar(all_sync_count.keys(), all_sync_count.values())\n",
    "axes.bar(flipped_class_count.keys(), flipped_class_count.values())\n",
    "axes.bar(no_hybrid_count.keys(), no_hybrid_count.values())\n",
    "axes.legend(labels=['sync_perf', 'all_sync', 'flipped_class', 'no_hybrid'])\n",
    "y_pos = [1, 2, 3, 4, 5, 6, 7]\n",
    "axes.tick_params(axis='x', labelrotation = 45)"
   ]
  },
  {
   "cell_type": "markdown",
   "metadata": {},
   "source": [
    "## Conclusion\n",
    "\n",
    "In the following markdown cell, write a reflective conclusion given the analysis you performed and identify recommendations.\n",
    "\n",
    "If your analysis of the data supports your idea, state your recommendation for the change and summarize the data analysys results you found which support it. Additionally, describe any extensions or refinements to this idea which might be explored further. Finally, discuss the potential costs, trade-offs, or stakeholders who may be negatively impacted by this proposed change.\n",
    "\n",
    "If your analysis of the data is inconclusive, summarize why your data analysis results were inconclusive in the support of your idea. Additionally, describe what experimental idea implementation or additional data collection might help build more confidence in assessing your idea. Finally, discuss the potential costs, trade-offs, or stakeholders who may be negatively impacted by experimenting with your idea.\n",
    "\n",
    "Finally, if your analysis of the data does not support it, summarize your data analysis results and why it refutes your idea. Discuss the potential costs, trade-offs, or stakeholders who may be negatively impacted by this proposed change. If you disagree with the validity of the findings, describe why your idea still makes sense to implement and what alternative data would better support it. If you agree with the validity of the data analysis, describe what alternate ideas or extensions you would explore instead. "
   ]
  },
  {
   "cell_type": "markdown",
   "metadata": {},
   "source": [
    "### Part 5. Conclusion\n",
    "\n"
   ]
  },
  {
   "cell_type": "markdown",
   "metadata": {},
   "source": [
    "As the average response ranges from 2-3 meaning people Strongly Disagree with having all synchronous classes, performance increasing if class were all sync, if class were no longer hybrid, and if all classes became synch leaving work for outside of class, it seems like people would support having entirely asynch classes. The data suggests that the majority of people, if not all, would not enjoy getting rid of the hybrid aspect of the class (rating of 1). The majority of people gave their synchronous performance a 4, indifferent. Most perfer an all asynch class (rating of 2). The ratings for a flipped classroom were all greater than 2s.\n",
    "\n",
    "Distributing a survey asking students if they would prefer an asynch class and what they would like to see in the format of the class would be a good way to collect more data. Additionally, asynch have the ability to hurt students who don't do well without timelines, etc. but could help as it provides flexibility and the ability to review concepts and lectures while still being able to go over concepts in office hours or tutoring."
   ]
  }
 ],
 "metadata": {
  "interpreter": {
   "hash": "aee8b7b246df8f9039afb4144a1f6fd8d2ca17a180786b69acc140d282b71a49"
  },
  "kernelspec": {
   "display_name": "Python 3.10.2 64-bit",
   "language": "python",
   "name": "python3"
  },
  "language_info": {
   "codemirror_mode": {
    "name": "ipython",
    "version": 3
   },
   "file_extension": ".py",
   "mimetype": "text/x-python",
   "name": "python",
   "nbconvert_exporter": "python",
   "pygments_lexer": "ipython3",
   "version": "3.10.1"
  },
  "orig_nbformat": 4
 },
 "nbformat": 4,
 "nbformat_minor": 2
}
